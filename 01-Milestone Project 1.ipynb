{
 "cells": [
  {
   "cell_type": "markdown",
   "metadata": {},
   "source": [
    "# Milestone Project 1\n",
    "## Congratulations on making it to your first milestone!\n",
    "You've already learned a ton and are ready to work on a real project.\n",
    "\n",
    "Your assignment: Create a Tic Tac Toe game. You are free to use any IDE you like.\n",
    "\n",
    "Here are the requirements:\n",
    "\n",
    "* 2 players should be able to play the game (both sitting at the same computer)\n",
    "* The board should be printed out every time a player makes a move\n",
    "* You should be able to accept input of the player position and then place a symbol on the board\n",
    "\n",
    "Feel free to use Google to help you figure anything out (but don't just Google \"Tic Tac Toe in Python\" otherwise you won't learn anything!) Keep in mind that this project can take anywhere between several hours to several days.\n",
    "\n",
    "There are 4 Jupyter Notebooks related to this assignment:\n",
    "\n",
    "* This Assignment Notebook\n",
    "* A \"Walkthrough Steps Workbook\" Notebook\n",
    "* A \"Complete Walkthrough Solution\" Notebook\n",
    "* An \"Advanced Solution\" Notebook\n",
    "\n",
    "I encourage you to just try to start the project on your own without referencing any of the notebooks. If you get stuck, check out the next lecture which is a text lecture with helpful hints and steps. If you're still stuck after that, then check out the Walkthrough Steps Workbook, which breaks up the project in steps for you to solve. Still stuck? Then check out the Complete Walkthrough Solution video for more help on approaching the project!"
   ]
  },
  {
   "cell_type": "markdown",
   "metadata": {},
   "source": [
    "There are parts of this that will be a struggle...and that is good! I have complete faith that if you have made it this far through the course you have all the tools and knowledge to tackle this project. Remember, it's totally open book, so take your time, do a little research, and remember:\n",
    "\n",
    "## HAVE FUN!"
   ]
  },
  {
   "cell_type": "code",
   "execution_count": 1,
   "metadata": {},
   "outputs": [],
   "source": [
    "from IPython.display import clear_output\n",
    "\n",
    "def display_board(board):\n",
    "    # Clear output ensures that the board is cleared if you run the function more than once\n",
    "    clear_output()\n",
    "    print(board[1]+'|'+board[2]+'|'+ board[3])\n",
    "    print('-|-|-')\n",
    "    print(board[4]+'|'+board[5]+'|'+ board[6])\n",
    "    print('-|-|-')\n",
    "    print(board[7]+'|'+board[8]+'|'+ board[9])"
   ]
  },
  {
   "cell_type": "code",
   "execution_count": 2,
   "metadata": {},
   "outputs": [
    {
     "name": "stdout",
     "output_type": "stream",
     "text": [
      " | | \n",
      "-|-|-\n",
      " | | \n",
      "-|-|-\n",
      " | | \n"
     ]
    }
   ],
   "source": [
    "board = ['#', ' ',' ',' ',' ',' ',' ',' ',' ',' ']\n",
    "\n",
    "display_board(board)"
   ]
  },
  {
   "cell_type": "code",
   "execution_count": 3,
   "metadata": {},
   "outputs": [],
   "source": [
    "def player_input():\n",
    "    marker = ''\n",
    "    \n",
    "    # Keep asking player 1 to choose X or O\n",
    "    while marker not in ['X','O']:\n",
    "        marker = input(\"Player 1, do you want to be X or O?: \").upper()\n",
    "        \n",
    "        if marker not in ['X','O']:\n",
    "            print ('Invalid marker entered. Please try again.')\n",
    "            marker = input(\"Do you want to be X or O?:\")\n",
    "            \n",
    "    # Assign player 2 the opposite marker\n",
    "    player1 = marker\n",
    "    \n",
    "    if player1 == 'X':\n",
    "        player2 = 'O'\n",
    "    else:\n",
    "        player2 = 'X'\n",
    "\n",
    "    return (player1, player2)"
   ]
  },
  {
   "cell_type": "code",
   "execution_count": 4,
   "metadata": {},
   "outputs": [
    {
     "name": "stdout",
     "output_type": "stream",
     "text": [
      "Player 1, do you want to be X or O?: x\n"
     ]
    }
   ],
   "source": [
    "player1_marker, player2_marker, = player_input()"
   ]
  },
  {
   "cell_type": "code",
   "execution_count": 5,
   "metadata": {},
   "outputs": [],
   "source": [
    "def place_marker(board, marker, position):\n",
    "    board[position] = marker"
   ]
  },
  {
   "cell_type": "code",
   "execution_count": 6,
   "metadata": {},
   "outputs": [],
   "source": [
    "def win_check(board, mark):\n",
    "    # When all rows share the same marker\n",
    "    return((board[1] == mark and board[2] == mark and board[3] == mark) or \n",
    "    (board[4] == mark and board[5] == mark and board[6] == mark) or \n",
    "    (board[7] == mark and board[8] == mark and board[9] == mark) or\n",
    "\n",
    "    # When all columns share the same marker\n",
    "    (board[1] == mark and board[4] == mark and board[7] == mark) or\n",
    "    (board[2] == mark and board[5] == mark and board[8] == mark) or\n",
    "    (board[3] == mark and board[6] == mark and board[9] == mark) or\n",
    "    \n",
    "    # When 2 diagonals share the same marker\n",
    "    (board[1] == mark and board[5] == mark and board[9] == mark) or\n",
    "    (board[3] == mark and board[5] == mark and board[7] == mark))\n",
    "   "
   ]
  },
  {
   "cell_type": "code",
   "execution_count": 7,
   "metadata": {},
   "outputs": [],
   "source": [
    "import random\n",
    "def choose_first():\n",
    "    if random.randint(0,1) == 0:\n",
    "        return 'Player 1'\n",
    "    else:\n",
    "        return 'Player 2'"
   ]
  },
  {
   "cell_type": "code",
   "execution_count": 8,
   "metadata": {},
   "outputs": [],
   "source": [
    "def space_check(board, position):\n",
    "    \n",
    "    return board[position] == ' '"
   ]
  },
  {
   "cell_type": "code",
   "execution_count": 9,
   "metadata": {},
   "outputs": [],
   "source": [
    "def full_board_check(board):\n",
    "    for i in range(1,10):\n",
    "        if space_check(board, i):\n",
    "            return False \n",
    "    return True"
   ]
  },
  {
   "cell_type": "code",
   "execution_count": 11,
   "metadata": {},
   "outputs": [],
   "source": [
    "def player_choice(board):\n",
    "    position = ' '\n",
    "    \n",
    "    # position not space_check(board, position) means position is not free\n",
    "    while position not in [1,2,3,4,5,6,7,8,9] or not space_check(board, position):\n",
    "        position = int(input('Please choose an empty position to place your marker(1-9):'))\n",
    "        \n",
    "    return position"
   ]
  },
  {
   "cell_type": "code",
   "execution_count": 10,
   "metadata": {},
   "outputs": [],
   "source": [
    "def replay():\n",
    "    choice = ' '\n",
    "    \n",
    "    while choice not in ['Y', 'N']:\n",
    "        choice = input('Play again? (Y or N): ').upper()\n",
    "        \n",
    "    return choice == 'Y'"
   ]
  },
  {
   "cell_type": "code",
   "execution_count": 12,
   "metadata": {},
   "outputs": [
    {
     "name": "stdout",
     "output_type": "stream",
     "text": [
      "O|X|O\n",
      "-|-|-\n",
      "X|X|O\n",
      "-|-|-\n",
      " | |O\n",
      "Congratulations Player 2! You win!\n",
      "Play again? (Y or N): N\n"
     ]
    }
   ],
   "source": [
    "print('Welcome to Tic Tac Toe!')\n",
    "\n",
    "# While loop to keep running the game\n",
    "while True:\n",
    "    # Set up (1) Board, (2) Who's first, (3) Choose markers\n",
    "    TheBoard = [' ']*10\n",
    "    player1_marker, player2_marker = player_input()\n",
    "    turn = choose_first()\n",
    "    print (turn + ' goes first.')\n",
    "    \n",
    "    play_game = ' '\n",
    "    \n",
    "    while play_game not in ['Y', 'N']:\n",
    "        play_game = input('Are you ready to play? (Y or N):').upper()\n",
    "        \n",
    "        if play_game == 'Y':\n",
    "            game_on = True\n",
    "        else:\n",
    "            game_on = False\n",
    "    \n",
    "    while game_on:\n",
    "        #Player 1 Turn\n",
    "        if turn == 'Player 1':\n",
    "            display_board(TheBoard)\n",
    "            position = player_choice(TheBoard)\n",
    "            place_marker(TheBoard, player1_marker, position)\n",
    "        \n",
    "            if win_check(TheBoard, player1_marker):\n",
    "                display_board(TheBoard)\n",
    "                print('Congratulations Player 1! You win!')\n",
    "                game_on = False\n",
    "            else:\n",
    "                if full_board_check(TheBoard):\n",
    "                    display_board(TheBoard)\n",
    "                    print('The game is a draw!')\n",
    "                    break\n",
    "                else:\n",
    "                    turn = 'Player 2'\n",
    "        \n",
    "        # Player2's turn.\n",
    "        else:   \n",
    "            display_board(TheBoard)\n",
    "            position = player_choice(TheBoard)\n",
    "            place_marker(TheBoard, player2_marker, position)\n",
    "        \n",
    "            if win_check(TheBoard, player2_marker):\n",
    "                display_board(TheBoard)\n",
    "                print('Congratulations Player 2! You win!')\n",
    "                game_on = False\n",
    "            else:\n",
    "                if full_board_check(TheBoard):\n",
    "                    display_board(TheBoard)\n",
    "                    print('The game is a draw!')\n",
    "                    break\n",
    "                else:\n",
    "                    turn = 'Player 1'\n",
    "\n",
    "# Break out of the while loop on replay()\n",
    "    if not replay():\n",
    "        break"
   ]
  },
  {
   "cell_type": "code",
   "execution_count": null,
   "metadata": {},
   "outputs": [],
   "source": []
  }
 ],
 "metadata": {
  "kernelspec": {
   "display_name": "Python 3",
   "language": "python",
   "name": "python3"
  },
  "language_info": {
   "codemirror_mode": {
    "name": "ipython",
    "version": 3
   },
   "file_extension": ".py",
   "mimetype": "text/x-python",
   "name": "python",
   "nbconvert_exporter": "python",
   "pygments_lexer": "ipython3",
   "version": "3.7.4"
  }
 },
 "nbformat": 4,
 "nbformat_minor": 1
}
